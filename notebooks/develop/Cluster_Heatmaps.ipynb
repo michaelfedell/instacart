{
 "cells": [
  {
   "cell_type": "code",
   "execution_count": 32,
   "metadata": {},
   "outputs": [],
   "source": [
    "import pandas as pd\n",
    "import matplotlib.pyplot as plt\n",
    "import matplotlib as mpl\n",
    "import seaborn as sns\n",
    "from scipy.stats import mode\n",
    "from sklearn.preprocessing import scale\n",
    "\n",
    "%matplotlib inline\n",
    "mpl.rcParams['figure.figsize'] = [12, 8]"
   ]
  },
  {
   "cell_type": "code",
   "execution_count": 25,
   "metadata": {},
   "outputs": [],
   "source": [
    "order_types = pd.read_csv('../../data/features/order_types.csv', index_col='label')"
   ]
  },
  {
   "cell_type": "code",
   "execution_count": 26,
   "metadata": {},
   "outputs": [
    {
     "data": {
      "text/html": [
       "<div>\n",
       "<style scoped>\n",
       "    .dataframe tbody tr th:only-of-type {\n",
       "        vertical-align: middle;\n",
       "    }\n",
       "\n",
       "    .dataframe tbody tr th {\n",
       "        vertical-align: top;\n",
       "    }\n",
       "\n",
       "    .dataframe thead th {\n",
       "        text-align: right;\n",
       "    }\n",
       "</style>\n",
       "<table border=\"1\" class=\"dataframe\">\n",
       "  <thead>\n",
       "    <tr style=\"text-align: right;\">\n",
       "      <th></th>\n",
       "      <th>reordered</th>\n",
       "      <th>organic</th>\n",
       "      <th>popular</th>\n",
       "      <th>prepared</th>\n",
       "      <th>dairy</th>\n",
       "      <th>gluten</th>\n",
       "      <th>snack</th>\n",
       "      <th>meat</th>\n",
       "      <th>fish</th>\n",
       "      <th>beverage</th>\n",
       "      <th>veg</th>\n",
       "      <th>order_dow</th>\n",
       "      <th>order_hour_of_day</th>\n",
       "      <th>days_since_prior_order</th>\n",
       "      <th>order_size</th>\n",
       "    </tr>\n",
       "    <tr>\n",
       "      <th>label</th>\n",
       "      <th></th>\n",
       "      <th></th>\n",
       "      <th></th>\n",
       "      <th></th>\n",
       "      <th></th>\n",
       "      <th></th>\n",
       "      <th></th>\n",
       "      <th></th>\n",
       "      <th></th>\n",
       "      <th></th>\n",
       "      <th></th>\n",
       "      <th></th>\n",
       "      <th></th>\n",
       "      <th></th>\n",
       "      <th></th>\n",
       "    </tr>\n",
       "  </thead>\n",
       "  <tbody>\n",
       "    <tr>\n",
       "      <th>1</th>\n",
       "      <td>0.640120</td>\n",
       "      <td>0.275375</td>\n",
       "      <td>0.146733</td>\n",
       "      <td>0.185948</td>\n",
       "      <td>0.103021</td>\n",
       "      <td>0.113885</td>\n",
       "      <td>0.115612</td>\n",
       "      <td>0.000000</td>\n",
       "      <td>0.000000</td>\n",
       "      <td>0.128550</td>\n",
       "      <td>0.332224</td>\n",
       "      <td>1</td>\n",
       "      <td>10</td>\n",
       "      <td>30.0</td>\n",
       "      <td>4.0</td>\n",
       "    </tr>\n",
       "    <tr>\n",
       "      <th>2</th>\n",
       "      <td>0.619680</td>\n",
       "      <td>0.194351</td>\n",
       "      <td>0.114928</td>\n",
       "      <td>0.421715</td>\n",
       "      <td>0.081952</td>\n",
       "      <td>0.063514</td>\n",
       "      <td>0.114628</td>\n",
       "      <td>0.383320</td>\n",
       "      <td>0.220379</td>\n",
       "      <td>0.061048</td>\n",
       "      <td>0.191051</td>\n",
       "      <td>1</td>\n",
       "      <td>15</td>\n",
       "      <td>30.0</td>\n",
       "      <td>1.0</td>\n",
       "    </tr>\n",
       "    <tr>\n",
       "      <th>3</th>\n",
       "      <td>0.612420</td>\n",
       "      <td>0.291615</td>\n",
       "      <td>0.118568</td>\n",
       "      <td>0.263033</td>\n",
       "      <td>0.130706</td>\n",
       "      <td>0.109397</td>\n",
       "      <td>0.100988</td>\n",
       "      <td>0.096080</td>\n",
       "      <td>0.075177</td>\n",
       "      <td>0.042472</td>\n",
       "      <td>0.322949</td>\n",
       "      <td>0</td>\n",
       "      <td>14</td>\n",
       "      <td>30.0</td>\n",
       "      <td>12.0</td>\n",
       "    </tr>\n",
       "    <tr>\n",
       "      <th>4</th>\n",
       "      <td>0.617094</td>\n",
       "      <td>0.137013</td>\n",
       "      <td>0.117449</td>\n",
       "      <td>0.128147</td>\n",
       "      <td>0.012973</td>\n",
       "      <td>0.355693</td>\n",
       "      <td>0.472128</td>\n",
       "      <td>0.135951</td>\n",
       "      <td>0.000000</td>\n",
       "      <td>0.116885</td>\n",
       "      <td>0.063747</td>\n",
       "      <td>1</td>\n",
       "      <td>10</td>\n",
       "      <td>30.0</td>\n",
       "      <td>1.0</td>\n",
       "    </tr>\n",
       "    <tr>\n",
       "      <th>5</th>\n",
       "      <td>0.637070</td>\n",
       "      <td>0.269136</td>\n",
       "      <td>0.132346</td>\n",
       "      <td>0.225954</td>\n",
       "      <td>0.141813</td>\n",
       "      <td>0.113271</td>\n",
       "      <td>0.121195</td>\n",
       "      <td>0.088181</td>\n",
       "      <td>0.000000</td>\n",
       "      <td>0.103714</td>\n",
       "      <td>0.278326</td>\n",
       "      <td>0</td>\n",
       "      <td>11</td>\n",
       "      <td>7.0</td>\n",
       "      <td>13.0</td>\n",
       "    </tr>\n",
       "  </tbody>\n",
       "</table>\n",
       "</div>"
      ],
      "text/plain": [
       "       reordered   organic   popular  prepared     dairy    gluten     snack  \\\n",
       "label                                                                          \n",
       "1       0.640120  0.275375  0.146733  0.185948  0.103021  0.113885  0.115612   \n",
       "2       0.619680  0.194351  0.114928  0.421715  0.081952  0.063514  0.114628   \n",
       "3       0.612420  0.291615  0.118568  0.263033  0.130706  0.109397  0.100988   \n",
       "4       0.617094  0.137013  0.117449  0.128147  0.012973  0.355693  0.472128   \n",
       "5       0.637070  0.269136  0.132346  0.225954  0.141813  0.113271  0.121195   \n",
       "\n",
       "           meat      fish  beverage       veg  order_dow  order_hour_of_day  \\\n",
       "label                                                                         \n",
       "1      0.000000  0.000000  0.128550  0.332224          1                 10   \n",
       "2      0.383320  0.220379  0.061048  0.191051          1                 15   \n",
       "3      0.096080  0.075177  0.042472  0.322949          0                 14   \n",
       "4      0.135951  0.000000  0.116885  0.063747          1                 10   \n",
       "5      0.088181  0.000000  0.103714  0.278326          0                 11   \n",
       "\n",
       "       days_since_prior_order  order_size  \n",
       "label                                      \n",
       "1                        30.0         4.0  \n",
       "2                        30.0         1.0  \n",
       "3                        30.0        12.0  \n",
       "4                        30.0         1.0  \n",
       "5                         7.0        13.0  "
      ]
     },
     "execution_count": 26,
     "metadata": {},
     "output_type": "execute_result"
    }
   ],
   "source": [
    "order_types.head()"
   ]
  },
  {
   "cell_type": "code",
   "execution_count": 39,
   "metadata": {},
   "outputs": [
    {
     "data": {
      "text/plain": [
       "Text(0.5, 51.0, 'cluster label')"
      ]
     },
     "execution_count": 39,
     "metadata": {},
     "output_type": "execute_result"
    },
    {
     "data": {
      "image/png": "[encoded data removed]",
      "text/plain": [
       "<Figure size 864x576 with 2 Axes>"
      ]
     },
     "metadata": {
      "needs_background": "light"
     },
     "output_type": "display_data"
    }
   ],
   "source": [
    "sub = order_types.columns[:11]\n",
    "plot_data = pd.DataFrame(scale(order_types[sub]), columns=sub).transpose()\n",
    "ax = sns.heatmap(plot_data, center=0, xticklabels=list(order_types.index))\n",
    "plt.xlabel('cluster label')\n",
    "# plt.show()"
   ]
  },
  {
   "cell_type": "code",
   "execution_count": 41,
   "metadata": {},
   "outputs": [
    {
     "data": {
      "text/plain": [
       "<Figure size 864x576 with 0 Axes>"
      ]
     },
     "metadata": {},
     "output_type": "display_data"
    }
   ],
   "source": [
    "plt.savefig('test.png')"
   ]
  },
  {
   "cell_type": "code",
   "execution_count": 36,
   "metadata": {},
   "outputs": [
    {
     "data": {
      "text/plain": [
       "'/Users/michaelfedell/Programming_Projects/instacart/notebooks/develop'"
      ]
     },
     "execution_count": 36,
     "metadata": {},
     "output_type": "execute_result"
    }
   ],
   "source": [
    "import os\n",
    "os.getcwd()"
   ]
  },
  {
   "cell_type": "code",
   "execution_count": null,
   "metadata": {},
   "outputs": [],
   "source": []
  }
 ],
 "metadata": {
  "kernelspec": {
   "display_name": "Python 3",
   "language": "python",
   "name": "python3"
  },
  "language_info": {
   "codemirror_mode": {
    "name": "ipython",
    "version": 3
   },
   "file_extension": ".py",
   "mimetype": "text/x-python",
   "name": "python",
   "nbconvert_exporter": "python",
   "pygments_lexer": "ipython3",
   "version": "3.7.1"
  },
  "toc": {
   "base_numbering": 1,
   "nav_menu": {},
   "number_sections": false,
   "sideBar": true,
   "skip_h1_title": false,
   "title_cell": "Table of Contents",
   "title_sidebar": "Contents",
   "toc_cell": false,
   "toc_position": {},
   "toc_section_display": true,
   "toc_window_display": false
  }
 },
 "nbformat": 4,
 "nbformat_minor": 2
}
